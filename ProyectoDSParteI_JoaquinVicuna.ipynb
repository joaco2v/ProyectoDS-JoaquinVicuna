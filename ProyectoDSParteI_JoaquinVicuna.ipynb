{
  "nbformat": 4,
  "nbformat_minor": 0,
  "metadata": {
    "colab": {
      "provenance": [],
      "authorship_tag": "ABX9TyPBXwOtqcJfzzPlWIlVo898",
      "include_colab_link": true
    },
    "kernelspec": {
      "name": "python3",
      "display_name": "Python 3"
    },
    "language_info": {
      "name": "python"
    }
  },
  "cells": [
    {
      "cell_type": "markdown",
      "metadata": {
        "id": "view-in-github",
        "colab_type": "text"
      },
      "source": [
        "<a href=\"https://colab.research.google.com/github/joaco2v/ProyectoDS-JoaquinVicuna/blob/main/ProyectoDSParteI_JoaquinVicuna.ipynb\" target=\"_parent\"><img src=\"https://colab.research.google.com/assets/colab-badge.svg\" alt=\"Open In Colab\"/></a>"
      ]
    },
    {
      "cell_type": "markdown",
      "source": [
        "# Proyecto DS Parte I\n",
        "## Contexto:\n",
        "## Hipotesis:\n"
      ],
      "metadata": {
        "id": "zMCo_pAHmjNS"
      }
    },
    {
      "cell_type": "code",
      "execution_count": null,
      "metadata": {
        "colab": {
          "base_uri": "https://localhost:8080/"
        },
        "id": "S5HWgqlzmeuV",
        "outputId": "4c87ebbd-b7cb-437b-c46a-5869c3f01eab"
      },
      "outputs": [
        {
          "output_type": "stream",
          "name": "stdout",
          "text": [
            "Requirement already satisfied: workalendar in /usr/local/lib/python3.11/dist-packages (17.0.0)\n",
            "Requirement already satisfied: python-dateutil in /usr/local/lib/python3.11/dist-packages (from workalendar) (2.8.2)\n",
            "Requirement already satisfied: lunardate in /usr/local/lib/python3.11/dist-packages (from workalendar) (0.2.2)\n",
            "Requirement already satisfied: convertdate in /usr/local/lib/python3.11/dist-packages (from workalendar) (2.4.0)\n",
            "Requirement already satisfied: pyluach in /usr/local/lib/python3.11/dist-packages (from workalendar) (2.2.0)\n",
            "Requirement already satisfied: pymeeus<=1,>=0.3.13 in /usr/local/lib/python3.11/dist-packages (from convertdate->workalendar) (0.5.12)\n",
            "Requirement already satisfied: six>=1.5 in /usr/local/lib/python3.11/dist-packages (from python-dateutil->workalendar) (1.17.0)\n"
          ]
        }
      ],
      "source": [
        "import pandas as pd\n",
        "from datetime import datetime, time\n",
        "import pytz\n",
        "!pip install workalendar\n",
        "from workalendar.america import Chile\n",
        "\n",
        "#Generamos variable con registros de sismos < 4.5\n",
        "url_df_github = \"https://raw.githubusercontent.com/joaco2v/ProyectoDS-JoaquinVicuna/refs/heads/main/sismos_chile.csv\"\n",
        "#Cargamos csv\n",
        "df = pd.read_csv(url_df_github)\n",
        "#Se fija fecha en zona horaria UTC\n",
        "df[\"Fecha UTC\"] = pd.to_datetime(df[\"time\"],utc=True)\n",
        "#Generamos una columna con la zona horaria chilena\n",
        "santiago_tz = pytz.timezone(\"America/Santiago\")\n",
        "df[\"Fecha UTC CL\"] = df[\"Fecha UTC\"].dt.tz_convert(santiago_tz)\n",
        "\n",
        "#Se determinará si el sismo fue en un horario habil o inhabil\n",
        "\n",
        "cal = Chile()\n",
        "\n",
        "#Se define funcion con los horarios habiles e inhabiles\n",
        "\n",
        "def es_habil(fecha_hora):\n",
        "    fecha = fecha_hora.date()\n",
        "    hora = fecha_hora.time()\n",
        "    dia_semana = fecha_hora.weekday() #0 = Lunes, 6 = Domingo\n",
        "\n",
        "    #Verificamos si es fin de semana es decir si es Sabado o Domingo\n",
        "\n",
        "    if dia_semana >=5:\n",
        "        return \"No habil\"\n",
        "\n",
        "    #Verificamos si es dia feriado\n",
        "\n",
        "    if cal.is_holiday(fecha):\n",
        "        return \"No habil\"\n",
        "\n",
        "    #Verificamos horario laboral definido (7:30 AM a 7:30 PM)\n",
        "    if time(7,30) <= hora <= time(19,30):\n",
        "        return \"Habil\"\n",
        "    else:\n",
        "        return \"No habil\"\n",
        "\n",
        "df[\"Horario_Habil\"] = df[\"Fecha UTC CL\"].apply(es_habil)\n",
        "\n",
        "#Formateamos las columnas finales\n",
        "\n",
        "df[\"Fecha UTC CL\"]= df[\"Fecha UTC CL\"].dt.strftime(\"%Y-%m-%d %H:%M:%S\")\n",
        "\n",
        "#Ahora definiremos si es terremoto según la semantica chilena,\n",
        "# es decir ajustaremos cualquier sismo >= 6.5 como terremoto, y si es < 6.5 será considerado temblor\n",
        "def es_terremoto(mag):\n",
        "    if mag < 6.5:\n",
        "        return False\n",
        "    else:\n",
        "        return True\n",
        "df[\"Terremoto\"] = df[\"mag\"].apply(es_terremoto)\n",
        "\n",
        "#Luego, guardamos el resultado:\n",
        "df.to_csv(\"sismos_chile_actualizado.csv\",index=False)\n"
      ]
    }
  ]
}